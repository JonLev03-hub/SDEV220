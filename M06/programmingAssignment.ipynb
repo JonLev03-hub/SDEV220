{
 "cells": [
  {
   "attachments": {},
   "cell_type": "markdown",
   "metadata": {},
   "source": [
    "13.1 Write the current date as a string to the text file today.txt."
   ]
  },
  {
   "cell_type": "code",
   "execution_count": 4,
   "metadata": {},
   "outputs": [],
   "source": [
    "from datetime import date\n",
    "with open(\"date.txt\",\"w\") as file:\n",
    "    file.write(str(date.today()))"
   ]
  },
  {
   "attachments": {},
   "cell_type": "markdown",
   "metadata": {},
   "source": [
    "13.2 Read the text file today.txt into the string today_string."
   ]
  },
  {
   "cell_type": "code",
   "execution_count": 8,
   "metadata": {},
   "outputs": [
    {
     "data": {
      "text/plain": [
       "'2023-04-30'"
      ]
     },
     "execution_count": 8,
     "metadata": {},
     "output_type": "execute_result"
    }
   ],
   "source": [
    "with open(\"date.txt\",\"r\") as file:\n",
    "    today_string = file.read()\n",
    "today_string"
   ]
  },
  {
   "attachments": {},
   "cell_type": "markdown",
   "metadata": {},
   "source": [
    "13.3 Parse the date from today_string."
   ]
  },
  {
   "cell_type": "code",
   "execution_count": 16,
   "metadata": {},
   "outputs": [
    {
     "data": {
      "text/plain": [
       "datetime.date(2023, 4, 30)"
      ]
     },
     "execution_count": 16,
     "metadata": {},
     "output_type": "execute_result"
    }
   ],
   "source": [
    "from datetime import datetime as dt\n",
    "today = dt.strptime(today_string,\"%Y-%m-%d\").date()\n",
    "today"
   ]
  },
  {
   "attachments": {},
   "cell_type": "markdown",
   "metadata": {},
   "source": [
    "15.1 Use multiprocessing to create three separate processes. Make each one wait a random number of seconds between zero and one, print the current time, and then exit."
   ]
  },
  {
   "cell_type": "code",
   "execution_count": 45,
   "metadata": {},
   "outputs": [],
   "source": [
    "# This process doesnt work inside of a jupyter notebook beacuse of how it sets the kernel up. Check out the multiprocessing.py file to see it work. Or just paste it into a python file. \n",
    "# sample output is in the markdown cell below\n",
    "\n",
    "\n",
    "import multiprocessing\n",
    "import time\n",
    "import random\n",
    "from datetime import datetime as dt\n",
    "\n",
    "\n",
    "def myFunc():\n",
    "    sleep_time = random.random()\n",
    "    time.sleep(sleep_time)\n",
    "    current_time = dt.now().strftime(\"%H:%M:%S\")\n",
    "    print(f\"{multiprocessing.current_process().name} Slept for: {sleep_time:.2f}s Finished At: {current_time}\")\n",
    "\n",
    "\n",
    "if __name__ == '__main__':\n",
    "    processes = []\n",
    "\n",
    "    for i in range(3):\n",
    "        p = multiprocessing.Process(target=myFunc, name=f\"Process {i+1}\")\n",
    "        processes.append(p)\n",
    "        p.start()\n",
    "\n",
    "    for p in processes:\n",
    "        p.join()\n"
   ]
  },
  {
   "cell_type": "code",
   "execution_count": null,
   "metadata": {},
   "outputs": [],
   "source": []
  }
 ],
 "metadata": {
  "kernelspec": {
   "display_name": "Python 3",
   "language": "python",
   "name": "python3"
  },
  "language_info": {
   "codemirror_mode": {
    "name": "ipython",
    "version": 3
   },
   "file_extension": ".py",
   "mimetype": "text/x-python",
   "name": "python",
   "nbconvert_exporter": "python",
   "pygments_lexer": "ipython3",
   "version": "3.10.5"
  },
  "orig_nbformat": 4
 },
 "nbformat": 4,
 "nbformat_minor": 2
}
