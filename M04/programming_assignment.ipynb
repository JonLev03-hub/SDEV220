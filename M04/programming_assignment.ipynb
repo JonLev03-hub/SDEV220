{
 "cells": [
  {
   "attachments": {},
   "cell_type": "markdown",
   "metadata": {},
   "source": [
    "11.1 Create a file called zoo.py. In it, define a function called hours() that prints the string 'Open 9-5 daily'. Then, use the interactive interpreter to import the zoo module and call its hours() function."
   ]
  },
  {
   "cell_type": "code",
   "execution_count": 1,
   "metadata": {},
   "outputs": [
    {
     "name": "stdout",
     "output_type": "stream",
     "text": [
      "Open 9-5 daily\n"
     ]
    }
   ],
   "source": [
    "from zoo import hours\n",
    "hours()"
   ]
  },
  {
   "attachments": {},
   "cell_type": "markdown",
   "metadata": {},
   "source": [
    "11.2 In the interactive interpreter, import the zoo module as menagerie and call its hours() function.\n",
    "\n"
   ]
  },
  {
   "cell_type": "code",
   "execution_count": 2,
   "metadata": {},
   "outputs": [
    {
     "name": "stdout",
     "output_type": "stream",
     "text": [
      "Open 9-5 daily\n"
     ]
    }
   ],
   "source": [
    "import zoo as menagerie\n",
    "menagerie.hours()"
   ]
  },
  {
   "attachments": {},
   "cell_type": "markdown",
   "metadata": {},
   "source": [
    "16.8 Use the sqlalchemy module to connect to the sqlite3 database books.db that you just made in exercise 16.4. As in 16.6, select and print the title column from the book table in alphabetical order."
   ]
  },
  {
   "cell_type": "code",
   "execution_count": 3,
   "metadata": {},
   "outputs": [
    {
     "ename": "OperationalError",
     "evalue": "table books already exists",
     "output_type": "error",
     "traceback": [
      "\u001b[1;31m---------------------------------------------------------------------------\u001b[0m",
      "\u001b[1;31mOperationalError\u001b[0m                          Traceback (most recent call last)",
      "\u001b[1;32mc:\\Users\\Jonat\\projects\\class work\\sdev2\\M04\\programming_assignment.ipynb Cell 6\u001b[0m in \u001b[0;36m<cell line: 4>\u001b[1;34m()\u001b[0m\n\u001b[0;32m      <a href='vscode-notebook-cell:/c%3A/Users/Jonat/projects/class%20work/sdev2/M04/programming_assignment.ipynb#W5sZmlsZQ%3D%3D?line=1'>2</a>\u001b[0m conn \u001b[39m=\u001b[39m sqlite3\u001b[39m.\u001b[39mconnect(\u001b[39m\"\u001b[39m\u001b[39mbooks.db\u001b[39m\u001b[39m\"\u001b[39m)\n\u001b[0;32m      <a href='vscode-notebook-cell:/c%3A/Users/Jonat/projects/class%20work/sdev2/M04/programming_assignment.ipynb#W5sZmlsZQ%3D%3D?line=2'>3</a>\u001b[0m c\u001b[39m=\u001b[39mconn\u001b[39m.\u001b[39mcursor()\n\u001b[1;32m----> <a href='vscode-notebook-cell:/c%3A/Users/Jonat/projects/class%20work/sdev2/M04/programming_assignment.ipynb#W5sZmlsZQ%3D%3D?line=3'>4</a>\u001b[0m c\u001b[39m.\u001b[39;49mexecute(\u001b[39m'''\u001b[39;49m\u001b[39mCREATE TABLE books (title text, author text, year integer)\u001b[39;49m\u001b[39m'''\u001b[39;49m)\n\u001b[0;32m      <a href='vscode-notebook-cell:/c%3A/Users/Jonat/projects/class%20work/sdev2/M04/programming_assignment.ipynb#W5sZmlsZQ%3D%3D?line=4'>5</a>\u001b[0m c\u001b[39m.\u001b[39mexecute(\u001b[39m'''\u001b[39m\u001b[39mINSERT INTO books (title,author,year) VALUES(\u001b[39m\u001b[39m\"\u001b[39m\u001b[39mbook name\u001b[39m\u001b[39m\"\u001b[39m\u001b[39m,\u001b[39m\u001b[39m\"\u001b[39m\u001b[39msome author\u001b[39m\u001b[39m\"\u001b[39m\u001b[39m,1990)\u001b[39m\u001b[39m'''\u001b[39m)\n\u001b[0;32m      <a href='vscode-notebook-cell:/c%3A/Users/Jonat/projects/class%20work/sdev2/M04/programming_assignment.ipynb#W5sZmlsZQ%3D%3D?line=5'>6</a>\u001b[0m conn\u001b[39m.\u001b[39mcommit()\n",
      "\u001b[1;31mOperationalError\u001b[0m: table books already exists"
     ]
    }
   ],
   "source": [
    "import sqlite3\n",
    "conn = sqlite3.connect(\"books.db\")\n",
    "c=conn.cursor()\n",
    "# c.execute('''CREATE TABLE books (title text, author text, year integer)''')\n",
    "c.execute('''INSERT INTO books (title,author,year) VALUES(\"book name\",\"some author\",1990)''')\n",
    "conn.commit()\n",
    "conn.close()"
   ]
  },
  {
   "cell_type": "code",
   "execution_count": null,
   "metadata": {},
   "outputs": [
    {
     "name": "stdout",
     "output_type": "stream",
     "text": [
      "('book name', 'some author', 1990)\n"
     ]
    }
   ],
   "source": [
    "\n",
    "import sqlalchemy as sa\n",
    "from sqlalchemy import text\n",
    "\n",
    "engine = sa.create_engine('sqlite:///books.db')\n",
    "conn = engine.connect()\n",
    "result = conn.execute(text('''SELECT * \n",
    "FROM books\n",
    "ORDER BY title'''))\n",
    "\n",
    "for row in result:\n",
    "    print(row)"
   ]
  },
  {
   "cell_type": "code",
   "execution_count": null,
   "metadata": {},
   "outputs": [],
   "source": []
  }
 ],
 "metadata": {
  "kernelspec": {
   "display_name": "Python 3",
   "language": "python",
   "name": "python3"
  },
  "language_info": {
   "codemirror_mode": {
    "name": "ipython",
    "version": 3
   },
   "file_extension": ".py",
   "mimetype": "text/x-python",
   "name": "python",
   "nbconvert_exporter": "python",
   "pygments_lexer": "ipython3",
   "version": "3.10.5"
  },
  "orig_nbformat": 4
 },
 "nbformat": 4,
 "nbformat_minor": 2
}
